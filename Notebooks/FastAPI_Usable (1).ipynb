{
  "cells": [
    {
      "cell_type": "code",
      "source": [
        "# !pip freeze > requirements.txt"
      ],
      "metadata": {
        "id": "l8A5YQDrSrPd"
      },
      "execution_count": null,
      "outputs": []
    },
    {
      "cell_type": "code",
      "execution_count": null,
      "metadata": {
        "id": "SqR2qdLDyhrL"
      },
      "outputs": [],
      "source": [
        "#DEPENDENCIES\n",
        "\n",
        "!pip install fastapi uvicorn\n",
        "!pip install colabcode\n",
        "!pip install mtcnn\n",
        "!pip install python-multipart"
      ]
    },
    {
      "cell_type": "code",
      "source": [
        "import keras\n",
        "keras.__version__"
      ],
      "metadata": {
        "colab": {
          "base_uri": "https://localhost:8080/",
          "height": 35
        },
        "id": "aarsc45USE1i",
        "outputId": "af74765d-3aff-4f06-c75b-e248968ac45b"
      },
      "execution_count": null,
      "outputs": [
        {
          "output_type": "execute_result",
          "data": {
            "text/plain": [
              "'2.8.0'"
            ],
            "application/vnd.google.colaboratory.intrinsic+json": {
              "type": "string"
            }
          },
          "metadata": {},
          "execution_count": 11
        }
      ]
    },
    {
      "cell_type": "code",
      "execution_count": null,
      "metadata": {
        "colab": {
          "base_uri": "https://localhost:8080/"
        },
        "id": "9U2lVq6GX0Pa",
        "outputId": "f4806404-39e1-4e57-b321-5dcebd757125"
      },
      "outputs": [
        {
          "output_type": "stream",
          "name": "stdout",
          "text": [
            "Authtoken saved to configuration file: /root/.ngrok2/ngrok.yml\n"
          ]
        }
      ],
      "source": [
        "# Authorizing ngrok terminal\n",
        "\n",
        "!ngrok authtoken #auth_token"
      ]
    },
    {
      "cell_type": "code",
      "execution_count": null,
      "metadata": {
        "id": "d8jHvLuK4zR1"
      },
      "outputs": [],
      "source": [
        "# Importing Necessary modules\n",
        "\n",
        "from fastapi import FastAPI, File, UploadFile\n",
        "import uvicorn\n",
        "from colabcode import ColabCode\n",
        "import os\n",
        "from keras.models import load_model\n",
        "import pickle\n",
        "from mtcnn.mtcnn import MTCNN\n",
        "import numpy as np\n",
        "from typing import List\n",
        "from PIL import Image\n",
        "from io import BytesIO\n",
        "from sklearn.preprocessing import LabelEncoder"
      ]
    },
    {
      "cell_type": "code",
      "execution_count": null,
      "metadata": {
        "id": "Svos2pCj-f51"
      },
      "outputs": [],
      "source": [
        "\n",
        "# extract a single face from a given photograph\n",
        "# EXTRACT FACES\n",
        "def extract_face(img, required_size=(160, 160)):\n",
        "    print('extracting face')\n",
        "\n",
        "    image = img.convert('RGB')\n",
        "    pixels = np.asarray(image)\n",
        "    print('image converted to array')\n",
        "\n",
        "    # detect face using MTCNN\n",
        "    detector = MTCNN()\n",
        "    results = detector.detect_faces(pixels)\n",
        "    \n",
        "    # extract the bounding box from the first face\n",
        "    try:\n",
        "        x1, y1, width, height = results[0]['box']\n",
        "    \n",
        "        # bug fix\n",
        "        x1, y1 = abs(x1), abs(y1)\n",
        "\n",
        "        x2, y2 = x1 + width, y1 + height\n",
        "\n",
        "        face = pixels[y1:y2, x1:x2]\n",
        "\n",
        "        image = Image.fromarray(face)\n",
        "\n",
        "        image = image.resize(required_size)\n",
        "        face_array = np.asarray(image)\n",
        "\n",
        "        return face_array\n",
        "\n",
        "    except Exception as e:\n",
        "        print(e)\n",
        "        print('exception occcured')\n",
        "\n",
        "    # required_size=(160, 160)\n",
        "    image = image.resize(required_size) \n",
        "    face_array = np.asarray(image)\n",
        "\n",
        "    print('extracted face')\n",
        "    return face_array\n",
        "\n",
        "\n",
        "\n",
        "# Create Face Embeddings using pre-trained model contributed by Hiroki Taniai\n",
        "def get_embedding(model, face_pixels):\n",
        "    print('embedding image called')\n",
        "\n",
        "    face_pixels = face_pixels.astype('float32')\n",
        "    \n",
        "    # standardize pixel values across channels (global) \n",
        "    mean, std = face_pixels.mean(), face_pixels.std() \n",
        "    face_pixels = (face_pixels - mean) / std\n",
        "    samples = np.expand_dims(face_pixels, axis=0)\n",
        "    \n",
        "    # get face embedding using pre-trained FaceNet model\n",
        "    yhat = model.predict(samples)\n",
        "    print('Predicted embedding')\n",
        "    return yhat[0]\n",
        "\n",
        "## Driver code to pre_process an image\n",
        "## READ AS BYTES ARRAY-->EXTRACT FACE-->PREDICT FACE EMBEDDING-->RESHAPE ARRAY\n",
        "def preprocess_img(file):\n",
        "\n",
        "  print('PREPROCESSING IMAGE.......')\n",
        "\n",
        "  image = Image.open(BytesIO(file))\n",
        "\n",
        "  # EXTRACTS FACE FROM IMAGE\n",
        "  inp = extract_face(image)  \n",
        "\n",
        "  #MAKES EMBEDDING OF THE IMAGE USING PRE-TRAINED MODEL\n",
        "  inp_emb = get_embedding(em_model, inp) \n",
        "  print('PREPROCESSING done!!!!!!!!')\n",
        "  return inp_emb.reshape(1,-1)\n"
      ]
    },
    {
      "cell_type": "code",
      "execution_count": null,
      "metadata": {
        "id": "qbGVjIY4ZuOP"
      },
      "outputs": [],
      "source": [
        "app = FastAPI(\n",
        "    title='Face Predictor using FaceNet',\n",
        "    description=\"<ul><li>Select the <b>'/predict'</b> method and click <b>'try it out'</b></li><li>Upload an image of a person</li><li>click on <b>'execute'</b>,scroll down to see the result in response body</li>\"\n",
        "    )\n",
        "\n",
        "model = None\n",
        "em_model = None\n",
        "encoder = LabelEncoder()\n",
        "\n",
        "## Load models on startup or first run of API\n",
        "@app.on_event(\"startup\")\n",
        "def load_models():\n",
        "  global model\n",
        "  global em_model\n",
        "  global encoder\n",
        "  # Loading model for face prediction\n",
        "  model = pickle.load(open('/content/drive/MyDrive/FaceNet_API/Models/model.pkl', 'rb'))\n",
        "\n",
        "  # Loading model for predicting face embeddings by Hiroki Taniai\n",
        "  em_model = load_model('/content/drive/MyDrive/FaceNet_API/Models/facenet_keras.h5')\n",
        "\n",
        "  # Loading labels\n",
        "  encoder.classes_ = np.load('/content/drive/MyDrive/FaceNet_API/Models/classes.npy')\n",
        "\n",
        "  print('MODELS LOADED !!!\\n')\n",
        "\n",
        "## Instructions TO USE API when link is opened\n",
        "@app.get('/',include_in_schema=False)\n",
        "def index():\n",
        "    return {\n",
        "        'Message':'Hello!',\n",
        "        '1)':'redirect to [link_generated]/docs',\n",
        "        '2)':'Select upload method',\n",
        "        '3)':'Click on Try it Out',\n",
        "        '4)':'Upload an image and click execute',\n",
        "        '5)':'After loading is complete you can view the results in Responses section'\n",
        "        }\n",
        "\n",
        "\n",
        "## Prediction is done: \n",
        "## File upload -> Execute -> Get name, distance, Registration status\n",
        "@app.post(\"/predict\")\n",
        "async def prediction(file: UploadFile = File(...)):\n",
        "\n",
        "    # Read file\n",
        "    contents = await file.read()\n",
        "\n",
        "    # extract face from img -> Get face embedding -> Reshape array\n",
        "    face = preprocess_img(contents)\n",
        "    # Predict face (employee name)\n",
        "    face_index = model.predict(face)\n",
        "    # Predict distance of input from available classes\n",
        "    prob = model.predict_proba(face)\n",
        "    print('PREDICTION DONE !!!!!!')\n",
        "\n",
        "    # Calculating index of most probable distance and mapping to respective name using encoder\n",
        "    prob = np.max(prob)*100\n",
        "    predicted = encoder.inverse_transform(face_index)\n",
        "\n",
        "    # Setting THRESHOLD as 30\n",
        "    #msg = 'Face Registered'\n",
        "    #if prob>90: msg = 'Face Not registered'\n",
        "    \n",
        "    return {\n",
        "        #'message':{msg},\n",
        "        'face':{predicted[0]},\n",
        "        'Distance':{prob}\n",
        "        }"
      ]
    },
    {
      "cell_type": "code",
      "execution_count": null,
      "metadata": {
        "colab": {
          "base_uri": "https://localhost:8080/"
        },
        "id": "R9D1vafI390M",
        "outputId": "82883773-21be-4f6b-cb83-4c046c843c59"
      },
      "outputs": [
        {
          "output_type": "stream",
          "name": "stdout",
          "text": [
            "Public URL: NgrokTunnel: \"https://fda9-35-196-110-71.ngrok.io\" -> \"http://localhost:8000\"\n"
          ]
        },
        {
          "output_type": "stream",
          "name": "stderr",
          "text": [
            "INFO:     Started server process [1406]\n",
            "INFO:     Waiting for application startup.\n"
          ]
        },
        {
          "output_type": "stream",
          "name": "stdout",
          "text": [
            "WARNING:tensorflow:No training configuration found in the save file, so the model was *not* compiled. Compile it manually.\n"
          ]
        },
        {
          "output_type": "stream",
          "name": "stderr",
          "text": [
            "INFO:     Application startup complete.\n",
            "INFO:     Uvicorn running on http://127.0.0.1:8000 (Press CTRL+C to quit)\n"
          ]
        },
        {
          "output_type": "stream",
          "name": "stdout",
          "text": [
            "MODELS LOADED !!!\n",
            "\n",
            "INFO:     2405:201:c008:226a:79f1:e7b9:d813:1669:0 - \"GET / HTTP/1.1\" 200 OK\n",
            "INFO:     2405:201:c008:226a:79f1:e7b9:d813:1669:0 - \"GET /favicon.ico HTTP/1.1\" 404 Not Found\n",
            "INFO:     2405:201:c008:226a:79f1:e7b9:d813:1669:0 - \"GET /docs HTTP/1.1\" 200 OK\n",
            "INFO:     2405:201:c008:226a:79f1:e7b9:d813:1669:0 - \"GET /openapi.json HTTP/1.1\" 200 OK\n",
            "PREPROCESSING IMAGE.......\n",
            "extracting face\n",
            "image converted to array\n",
            "WARNING:tensorflow:5 out of the last 8 calls to <function Model.make_predict_function.<locals>.predict_function at 0x7f700c96d8c0> triggered tf.function retracing. Tracing is expensive and the excessive number of tracings could be due to (1) creating @tf.function repeatedly in a loop, (2) passing tensors with different shapes, (3) passing Python objects instead of tensors. For (1), please define your @tf.function outside of the loop. For (2), @tf.function has experimental_relax_shapes=True option that relaxes argument shapes that can avoid unnecessary retracing. For (3), please refer to https://www.tensorflow.org/guide/function#controlling_retracing and https://www.tensorflow.org/api_docs/python/tf/function for  more details.\n",
            "embedding image called\n",
            "WARNING:tensorflow:6 out of the last 9 calls to <function Model.make_predict_function.<locals>.predict_function at 0x7f701046e290> triggered tf.function retracing. Tracing is expensive and the excessive number of tracings could be due to (1) creating @tf.function repeatedly in a loop, (2) passing tensors with different shapes, (3) passing Python objects instead of tensors. For (1), please define your @tf.function outside of the loop. For (2), @tf.function has experimental_relax_shapes=True option that relaxes argument shapes that can avoid unnecessary retracing. For (3), please refer to https://www.tensorflow.org/guide/function#controlling_retracing and https://www.tensorflow.org/api_docs/python/tf/function for  more details.\n",
            "Predicted embedding\n",
            "PREPROCESSING done!!!!!!!!\n",
            "PREDICTION DONE !!!!!!\n",
            "INFO:     2405:201:c008:226a:79f1:e7b9:d813:1669:0 - \"POST /predict HTTP/1.1\" 200 OK\n"
          ]
        },
        {
          "output_type": "stream",
          "name": "stderr",
          "text": [
            "INFO:     Shutting down\n",
            "INFO:     Waiting for application shutdown.\n",
            "INFO:     Application shutdown complete.\n",
            "INFO:     Finished server process [1406]\n"
          ]
        }
      ],
      "source": [
        "# Running the app on cloud server\n",
        "# Use Public URL: NgrokTunnel\n",
        "# Add \"/docs\" to the generated link i.e. [link]/docs\n",
        "# Example: https://317d-35-196-110-71.ngrok.io/docs\n",
        "\n",
        "server = ColabCode(port=8000, code=False)\n",
        "server.run_app(app=app)\n"
      ]
    }
  ],
  "metadata": {
    "colab": {
      "name": "FastAPI_Usable.ipynb",
      "provenance": [],
      "collapsed_sections": []
    },
    "kernelspec": {
      "display_name": "Python 3",
      "name": "python3"
    },
    "language_info": {
      "name": "python"
    }
  },
  "nbformat": 4,
  "nbformat_minor": 0
}