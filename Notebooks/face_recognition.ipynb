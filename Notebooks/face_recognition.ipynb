{
  "nbformat": 4,
  "nbformat_minor": 0,
  "metadata": {
    "colab": {
      "name": "face_recognition.ipynb",
      "provenance": [],
      "collapsed_sections": []
    },
    "kernelspec": {
      "name": "python3",
      "display_name": "Python 3"
    },
    "language_info": {
      "name": "python"
    },
    "accelerator": "GPU",
    "widgets": {
      "application/vnd.jupyter.widget-state+json": {
        "7c08b5378e834a9f85433d3d9088dbd1": {
          "model_module": "@jupyter-widgets/controls",
          "model_name": "HBoxModel",
          "model_module_version": "1.5.0",
          "state": {
            "_dom_classes": [],
            "_model_module": "@jupyter-widgets/controls",
            "_model_module_version": "1.5.0",
            "_model_name": "HBoxModel",
            "_view_count": null,
            "_view_module": "@jupyter-widgets/controls",
            "_view_module_version": "1.5.0",
            "_view_name": "HBoxView",
            "box_style": "",
            "children": [
              "IPY_MODEL_539872b8a2bc4f78a052d7e580f1885f",
              "IPY_MODEL_dc0deb3bae2c4b03b7d44b9317ed3fea",
              "IPY_MODEL_4767f25718a74e98b338a6b0bd55b1d0"
            ],
            "layout": "IPY_MODEL_1604000645fe471994967db2cd73de18"
          }
        },
        "539872b8a2bc4f78a052d7e580f1885f": {
          "model_module": "@jupyter-widgets/controls",
          "model_name": "HTMLModel",
          "model_module_version": "1.5.0",
          "state": {
            "_dom_classes": [],
            "_model_module": "@jupyter-widgets/controls",
            "_model_module_version": "1.5.0",
            "_model_name": "HTMLModel",
            "_view_count": null,
            "_view_module": "@jupyter-widgets/controls",
            "_view_module_version": "1.5.0",
            "_view_name": "HTMLView",
            "description": "",
            "description_tooltip": null,
            "layout": "IPY_MODEL_d1ea57d3e7da45eebefc43d587510d5a",
            "placeholder": "​",
            "style": "IPY_MODEL_fa7ba89e73664e2f9c90ea591b44c3f2",
            "value": "100%"
          }
        },
        "dc0deb3bae2c4b03b7d44b9317ed3fea": {
          "model_module": "@jupyter-widgets/controls",
          "model_name": "FloatProgressModel",
          "model_module_version": "1.5.0",
          "state": {
            "_dom_classes": [],
            "_model_module": "@jupyter-widgets/controls",
            "_model_module_version": "1.5.0",
            "_model_name": "FloatProgressModel",
            "_view_count": null,
            "_view_module": "@jupyter-widgets/controls",
            "_view_module_version": "1.5.0",
            "_view_name": "ProgressView",
            "bar_style": "success",
            "description": "",
            "description_tooltip": null,
            "layout": "IPY_MODEL_0b0ece57e4eb4f4794a397778f354041",
            "max": 33,
            "min": 0,
            "orientation": "horizontal",
            "style": "IPY_MODEL_669f63f2b586400383a0212a1729d1a0",
            "value": 33
          }
        },
        "4767f25718a74e98b338a6b0bd55b1d0": {
          "model_module": "@jupyter-widgets/controls",
          "model_name": "HTMLModel",
          "model_module_version": "1.5.0",
          "state": {
            "_dom_classes": [],
            "_model_module": "@jupyter-widgets/controls",
            "_model_module_version": "1.5.0",
            "_model_name": "HTMLModel",
            "_view_count": null,
            "_view_module": "@jupyter-widgets/controls",
            "_view_module_version": "1.5.0",
            "_view_name": "HTMLView",
            "description": "",
            "description_tooltip": null,
            "layout": "IPY_MODEL_79f75340c7bd4b1dbbe616408b09ce14",
            "placeholder": "​",
            "style": "IPY_MODEL_7def94efcf9a4021b4f4bbe517b32fe7",
            "value": " 33/33 [07:04&lt;00:00, 15.96s/it]"
          }
        },
        "1604000645fe471994967db2cd73de18": {
          "model_module": "@jupyter-widgets/base",
          "model_name": "LayoutModel",
          "model_module_version": "1.2.0",
          "state": {
            "_model_module": "@jupyter-widgets/base",
            "_model_module_version": "1.2.0",
            "_model_name": "LayoutModel",
            "_view_count": null,
            "_view_module": "@jupyter-widgets/base",
            "_view_module_version": "1.2.0",
            "_view_name": "LayoutView",
            "align_content": null,
            "align_items": null,
            "align_self": null,
            "border": null,
            "bottom": null,
            "display": null,
            "flex": null,
            "flex_flow": null,
            "grid_area": null,
            "grid_auto_columns": null,
            "grid_auto_flow": null,
            "grid_auto_rows": null,
            "grid_column": null,
            "grid_gap": null,
            "grid_row": null,
            "grid_template_areas": null,
            "grid_template_columns": null,
            "grid_template_rows": null,
            "height": null,
            "justify_content": null,
            "justify_items": null,
            "left": null,
            "margin": null,
            "max_height": null,
            "max_width": null,
            "min_height": null,
            "min_width": null,
            "object_fit": null,
            "object_position": null,
            "order": null,
            "overflow": null,
            "overflow_x": null,
            "overflow_y": null,
            "padding": null,
            "right": null,
            "top": null,
            "visibility": null,
            "width": null
          }
        },
        "d1ea57d3e7da45eebefc43d587510d5a": {
          "model_module": "@jupyter-widgets/base",
          "model_name": "LayoutModel",
          "model_module_version": "1.2.0",
          "state": {
            "_model_module": "@jupyter-widgets/base",
            "_model_module_version": "1.2.0",
            "_model_name": "LayoutModel",
            "_view_count": null,
            "_view_module": "@jupyter-widgets/base",
            "_view_module_version": "1.2.0",
            "_view_name": "LayoutView",
            "align_content": null,
            "align_items": null,
            "align_self": null,
            "border": null,
            "bottom": null,
            "display": null,
            "flex": null,
            "flex_flow": null,
            "grid_area": null,
            "grid_auto_columns": null,
            "grid_auto_flow": null,
            "grid_auto_rows": null,
            "grid_column": null,
            "grid_gap": null,
            "grid_row": null,
            "grid_template_areas": null,
            "grid_template_columns": null,
            "grid_template_rows": null,
            "height": null,
            "justify_content": null,
            "justify_items": null,
            "left": null,
            "margin": null,
            "max_height": null,
            "max_width": null,
            "min_height": null,
            "min_width": null,
            "object_fit": null,
            "object_position": null,
            "order": null,
            "overflow": null,
            "overflow_x": null,
            "overflow_y": null,
            "padding": null,
            "right": null,
            "top": null,
            "visibility": null,
            "width": null
          }
        },
        "fa7ba89e73664e2f9c90ea591b44c3f2": {
          "model_module": "@jupyter-widgets/controls",
          "model_name": "DescriptionStyleModel",
          "model_module_version": "1.5.0",
          "state": {
            "_model_module": "@jupyter-widgets/controls",
            "_model_module_version": "1.5.0",
            "_model_name": "DescriptionStyleModel",
            "_view_count": null,
            "_view_module": "@jupyter-widgets/base",
            "_view_module_version": "1.2.0",
            "_view_name": "StyleView",
            "description_width": ""
          }
        },
        "0b0ece57e4eb4f4794a397778f354041": {
          "model_module": "@jupyter-widgets/base",
          "model_name": "LayoutModel",
          "model_module_version": "1.2.0",
          "state": {
            "_model_module": "@jupyter-widgets/base",
            "_model_module_version": "1.2.0",
            "_model_name": "LayoutModel",
            "_view_count": null,
            "_view_module": "@jupyter-widgets/base",
            "_view_module_version": "1.2.0",
            "_view_name": "LayoutView",
            "align_content": null,
            "align_items": null,
            "align_self": null,
            "border": null,
            "bottom": null,
            "display": null,
            "flex": null,
            "flex_flow": null,
            "grid_area": null,
            "grid_auto_columns": null,
            "grid_auto_flow": null,
            "grid_auto_rows": null,
            "grid_column": null,
            "grid_gap": null,
            "grid_row": null,
            "grid_template_areas": null,
            "grid_template_columns": null,
            "grid_template_rows": null,
            "height": null,
            "justify_content": null,
            "justify_items": null,
            "left": null,
            "margin": null,
            "max_height": null,
            "max_width": null,
            "min_height": null,
            "min_width": null,
            "object_fit": null,
            "object_position": null,
            "order": null,
            "overflow": null,
            "overflow_x": null,
            "overflow_y": null,
            "padding": null,
            "right": null,
            "top": null,
            "visibility": null,
            "width": null
          }
        },
        "669f63f2b586400383a0212a1729d1a0": {
          "model_module": "@jupyter-widgets/controls",
          "model_name": "ProgressStyleModel",
          "model_module_version": "1.5.0",
          "state": {
            "_model_module": "@jupyter-widgets/controls",
            "_model_module_version": "1.5.0",
            "_model_name": "ProgressStyleModel",
            "_view_count": null,
            "_view_module": "@jupyter-widgets/base",
            "_view_module_version": "1.2.0",
            "_view_name": "StyleView",
            "bar_color": null,
            "description_width": ""
          }
        },
        "79f75340c7bd4b1dbbe616408b09ce14": {
          "model_module": "@jupyter-widgets/base",
          "model_name": "LayoutModel",
          "model_module_version": "1.2.0",
          "state": {
            "_model_module": "@jupyter-widgets/base",
            "_model_module_version": "1.2.0",
            "_model_name": "LayoutModel",
            "_view_count": null,
            "_view_module": "@jupyter-widgets/base",
            "_view_module_version": "1.2.0",
            "_view_name": "LayoutView",
            "align_content": null,
            "align_items": null,
            "align_self": null,
            "border": null,
            "bottom": null,
            "display": null,
            "flex": null,
            "flex_flow": null,
            "grid_area": null,
            "grid_auto_columns": null,
            "grid_auto_flow": null,
            "grid_auto_rows": null,
            "grid_column": null,
            "grid_gap": null,
            "grid_row": null,
            "grid_template_areas": null,
            "grid_template_columns": null,
            "grid_template_rows": null,
            "height": null,
            "justify_content": null,
            "justify_items": null,
            "left": null,
            "margin": null,
            "max_height": null,
            "max_width": null,
            "min_height": null,
            "min_width": null,
            "object_fit": null,
            "object_position": null,
            "order": null,
            "overflow": null,
            "overflow_x": null,
            "overflow_y": null,
            "padding": null,
            "right": null,
            "top": null,
            "visibility": null,
            "width": null
          }
        },
        "7def94efcf9a4021b4f4bbe517b32fe7": {
          "model_module": "@jupyter-widgets/controls",
          "model_name": "DescriptionStyleModel",
          "model_module_version": "1.5.0",
          "state": {
            "_model_module": "@jupyter-widgets/controls",
            "_model_module_version": "1.5.0",
            "_model_name": "DescriptionStyleModel",
            "_view_count": null,
            "_view_module": "@jupyter-widgets/base",
            "_view_module_version": "1.2.0",
            "_view_name": "StyleView",
            "description_width": ""
          }
        },
        "1695f4fafd264d518dd7cf31c29ee097": {
          "model_module": "@jupyter-widgets/controls",
          "model_name": "HBoxModel",
          "model_module_version": "1.5.0",
          "state": {
            "_dom_classes": [],
            "_model_module": "@jupyter-widgets/controls",
            "_model_module_version": "1.5.0",
            "_model_name": "HBoxModel",
            "_view_count": null,
            "_view_module": "@jupyter-widgets/controls",
            "_view_module_version": "1.5.0",
            "_view_name": "HBoxView",
            "box_style": "",
            "children": [
              "IPY_MODEL_a0ec1de4b1464324918ba633c78eb819",
              "IPY_MODEL_4881ce1cabc547beb0aa5827f59f9775",
              "IPY_MODEL_394c511eab7d43659e98366ea156647c"
            ],
            "layout": "IPY_MODEL_769b3ea05a2543bc98a460f9956e2dda"
          }
        },
        "a0ec1de4b1464324918ba633c78eb819": {
          "model_module": "@jupyter-widgets/controls",
          "model_name": "HTMLModel",
          "model_module_version": "1.5.0",
          "state": {
            "_dom_classes": [],
            "_model_module": "@jupyter-widgets/controls",
            "_model_module_version": "1.5.0",
            "_model_name": "HTMLModel",
            "_view_count": null,
            "_view_module": "@jupyter-widgets/controls",
            "_view_module_version": "1.5.0",
            "_view_name": "HTMLView",
            "description": "",
            "description_tooltip": null,
            "layout": "IPY_MODEL_5a990967b8fc4885951d6a90ad1b8993",
            "placeholder": "​",
            "style": "IPY_MODEL_1071f1a22b864006bf6557782a14e4a5",
            "value": "100%"
          }
        },
        "4881ce1cabc547beb0aa5827f59f9775": {
          "model_module": "@jupyter-widgets/controls",
          "model_name": "FloatProgressModel",
          "model_module_version": "1.5.0",
          "state": {
            "_dom_classes": [],
            "_model_module": "@jupyter-widgets/controls",
            "_model_module_version": "1.5.0",
            "_model_name": "FloatProgressModel",
            "_view_count": null,
            "_view_module": "@jupyter-widgets/controls",
            "_view_module_version": "1.5.0",
            "_view_name": "ProgressView",
            "bar_style": "success",
            "description": "",
            "description_tooltip": null,
            "layout": "IPY_MODEL_26e5d194331d4c17a9730d33ea849d68",
            "max": 33,
            "min": 0,
            "orientation": "horizontal",
            "style": "IPY_MODEL_20fa70d8fe4c454db80128b0287f9458",
            "value": 33
          }
        },
        "394c511eab7d43659e98366ea156647c": {
          "model_module": "@jupyter-widgets/controls",
          "model_name": "HTMLModel",
          "model_module_version": "1.5.0",
          "state": {
            "_dom_classes": [],
            "_model_module": "@jupyter-widgets/controls",
            "_model_module_version": "1.5.0",
            "_model_name": "HTMLModel",
            "_view_count": null,
            "_view_module": "@jupyter-widgets/controls",
            "_view_module_version": "1.5.0",
            "_view_name": "HTMLView",
            "description": "",
            "description_tooltip": null,
            "layout": "IPY_MODEL_8a1668e60b214166a95b30a20d71f113",
            "placeholder": "​",
            "style": "IPY_MODEL_99c723d6524c4df5b9345b208b77939d",
            "value": " 33/33 [02:08&lt;00:00,  6.40s/it]"
          }
        },
        "769b3ea05a2543bc98a460f9956e2dda": {
          "model_module": "@jupyter-widgets/base",
          "model_name": "LayoutModel",
          "model_module_version": "1.2.0",
          "state": {
            "_model_module": "@jupyter-widgets/base",
            "_model_module_version": "1.2.0",
            "_model_name": "LayoutModel",
            "_view_count": null,
            "_view_module": "@jupyter-widgets/base",
            "_view_module_version": "1.2.0",
            "_view_name": "LayoutView",
            "align_content": null,
            "align_items": null,
            "align_self": null,
            "border": null,
            "bottom": null,
            "display": null,
            "flex": null,
            "flex_flow": null,
            "grid_area": null,
            "grid_auto_columns": null,
            "grid_auto_flow": null,
            "grid_auto_rows": null,
            "grid_column": null,
            "grid_gap": null,
            "grid_row": null,
            "grid_template_areas": null,
            "grid_template_columns": null,
            "grid_template_rows": null,
            "height": null,
            "justify_content": null,
            "justify_items": null,
            "left": null,
            "margin": null,
            "max_height": null,
            "max_width": null,
            "min_height": null,
            "min_width": null,
            "object_fit": null,
            "object_position": null,
            "order": null,
            "overflow": null,
            "overflow_x": null,
            "overflow_y": null,
            "padding": null,
            "right": null,
            "top": null,
            "visibility": null,
            "width": null
          }
        },
        "5a990967b8fc4885951d6a90ad1b8993": {
          "model_module": "@jupyter-widgets/base",
          "model_name": "LayoutModel",
          "model_module_version": "1.2.0",
          "state": {
            "_model_module": "@jupyter-widgets/base",
            "_model_module_version": "1.2.0",
            "_model_name": "LayoutModel",
            "_view_count": null,
            "_view_module": "@jupyter-widgets/base",
            "_view_module_version": "1.2.0",
            "_view_name": "LayoutView",
            "align_content": null,
            "align_items": null,
            "align_self": null,
            "border": null,
            "bottom": null,
            "display": null,
            "flex": null,
            "flex_flow": null,
            "grid_area": null,
            "grid_auto_columns": null,
            "grid_auto_flow": null,
            "grid_auto_rows": null,
            "grid_column": null,
            "grid_gap": null,
            "grid_row": null,
            "grid_template_areas": null,
            "grid_template_columns": null,
            "grid_template_rows": null,
            "height": null,
            "justify_content": null,
            "justify_items": null,
            "left": null,
            "margin": null,
            "max_height": null,
            "max_width": null,
            "min_height": null,
            "min_width": null,
            "object_fit": null,
            "object_position": null,
            "order": null,
            "overflow": null,
            "overflow_x": null,
            "overflow_y": null,
            "padding": null,
            "right": null,
            "top": null,
            "visibility": null,
            "width": null
          }
        },
        "1071f1a22b864006bf6557782a14e4a5": {
          "model_module": "@jupyter-widgets/controls",
          "model_name": "DescriptionStyleModel",
          "model_module_version": "1.5.0",
          "state": {
            "_model_module": "@jupyter-widgets/controls",
            "_model_module_version": "1.5.0",
            "_model_name": "DescriptionStyleModel",
            "_view_count": null,
            "_view_module": "@jupyter-widgets/base",
            "_view_module_version": "1.2.0",
            "_view_name": "StyleView",
            "description_width": ""
          }
        },
        "26e5d194331d4c17a9730d33ea849d68": {
          "model_module": "@jupyter-widgets/base",
          "model_name": "LayoutModel",
          "model_module_version": "1.2.0",
          "state": {
            "_model_module": "@jupyter-widgets/base",
            "_model_module_version": "1.2.0",
            "_model_name": "LayoutModel",
            "_view_count": null,
            "_view_module": "@jupyter-widgets/base",
            "_view_module_version": "1.2.0",
            "_view_name": "LayoutView",
            "align_content": null,
            "align_items": null,
            "align_self": null,
            "border": null,
            "bottom": null,
            "display": null,
            "flex": null,
            "flex_flow": null,
            "grid_area": null,
            "grid_auto_columns": null,
            "grid_auto_flow": null,
            "grid_auto_rows": null,
            "grid_column": null,
            "grid_gap": null,
            "grid_row": null,
            "grid_template_areas": null,
            "grid_template_columns": null,
            "grid_template_rows": null,
            "height": null,
            "justify_content": null,
            "justify_items": null,
            "left": null,
            "margin": null,
            "max_height": null,
            "max_width": null,
            "min_height": null,
            "min_width": null,
            "object_fit": null,
            "object_position": null,
            "order": null,
            "overflow": null,
            "overflow_x": null,
            "overflow_y": null,
            "padding": null,
            "right": null,
            "top": null,
            "visibility": null,
            "width": null
          }
        },
        "20fa70d8fe4c454db80128b0287f9458": {
          "model_module": "@jupyter-widgets/controls",
          "model_name": "ProgressStyleModel",
          "model_module_version": "1.5.0",
          "state": {
            "_model_module": "@jupyter-widgets/controls",
            "_model_module_version": "1.5.0",
            "_model_name": "ProgressStyleModel",
            "_view_count": null,
            "_view_module": "@jupyter-widgets/base",
            "_view_module_version": "1.2.0",
            "_view_name": "StyleView",
            "bar_color": null,
            "description_width": ""
          }
        },
        "8a1668e60b214166a95b30a20d71f113": {
          "model_module": "@jupyter-widgets/base",
          "model_name": "LayoutModel",
          "model_module_version": "1.2.0",
          "state": {
            "_model_module": "@jupyter-widgets/base",
            "_model_module_version": "1.2.0",
            "_model_name": "LayoutModel",
            "_view_count": null,
            "_view_module": "@jupyter-widgets/base",
            "_view_module_version": "1.2.0",
            "_view_name": "LayoutView",
            "align_content": null,
            "align_items": null,
            "align_self": null,
            "border": null,
            "bottom": null,
            "display": null,
            "flex": null,
            "flex_flow": null,
            "grid_area": null,
            "grid_auto_columns": null,
            "grid_auto_flow": null,
            "grid_auto_rows": null,
            "grid_column": null,
            "grid_gap": null,
            "grid_row": null,
            "grid_template_areas": null,
            "grid_template_columns": null,
            "grid_template_rows": null,
            "height": null,
            "justify_content": null,
            "justify_items": null,
            "left": null,
            "margin": null,
            "max_height": null,
            "max_width": null,
            "min_height": null,
            "min_width": null,
            "object_fit": null,
            "object_position": null,
            "order": null,
            "overflow": null,
            "overflow_x": null,
            "overflow_y": null,
            "padding": null,
            "right": null,
            "top": null,
            "visibility": null,
            "width": null
          }
        },
        "99c723d6524c4df5b9345b208b77939d": {
          "model_module": "@jupyter-widgets/controls",
          "model_name": "DescriptionStyleModel",
          "model_module_version": "1.5.0",
          "state": {
            "_model_module": "@jupyter-widgets/controls",
            "_model_module_version": "1.5.0",
            "_model_name": "DescriptionStyleModel",
            "_view_count": null,
            "_view_module": "@jupyter-widgets/base",
            "_view_module_version": "1.2.0",
            "_view_name": "StyleView",
            "description_width": ""
          }
        }
      }
    }
  },
  "cells": [
    {
      "cell_type": "code",
      "source": [
        "!pip install face_recognition"
      ],
      "metadata": {
        "colab": {
          "base_uri": "https://localhost:8080/"
        },
        "id": "3PyszI_zLrQW",
        "outputId": "f69e4066-8edf-4537-9c6e-0d2916d8c56a"
      },
      "execution_count": null,
      "outputs": [
        {
          "output_type": "stream",
          "name": "stdout",
          "text": [
            "Collecting face_recognition\n",
            "  Downloading face_recognition-1.3.0-py2.py3-none-any.whl (15 kB)\n",
            "Requirement already satisfied: Click>=6.0 in /usr/local/lib/python3.7/dist-packages (from face_recognition) (7.1.2)\n",
            "Requirement already satisfied: Pillow in /usr/local/lib/python3.7/dist-packages (from face_recognition) (7.1.2)\n",
            "Requirement already satisfied: dlib>=19.7 in /usr/local/lib/python3.7/dist-packages (from face_recognition) (19.18.0)\n",
            "Collecting face-recognition-models>=0.3.0\n",
            "  Downloading face_recognition_models-0.3.0.tar.gz (100.1 MB)\n",
            "\u001b[K     |████████████████████████████████| 100.1 MB 21 kB/s \n",
            "\u001b[?25hRequirement already satisfied: numpy in /usr/local/lib/python3.7/dist-packages (from face_recognition) (1.21.5)\n",
            "Building wheels for collected packages: face-recognition-models\n",
            "  Building wheel for face-recognition-models (setup.py) ... \u001b[?25l\u001b[?25hdone\n",
            "  Created wheel for face-recognition-models: filename=face_recognition_models-0.3.0-py2.py3-none-any.whl size=100566186 sha256=6742841d59d4c5c76b6b66154bb0d39772d4d9b615e5763a29f832149f1a47eb\n",
            "  Stored in directory: /root/.cache/pip/wheels/d6/81/3c/884bcd5e1c120ff548d57c2ecc9ebf3281c9a6f7c0e7e7947a\n",
            "Successfully built face-recognition-models\n",
            "Installing collected packages: face-recognition-models, face-recognition\n",
            "Successfully installed face-recognition-1.3.0 face-recognition-models-0.3.0\n"
          ]
        }
      ]
    },
    {
      "cell_type": "code",
      "execution_count": null,
      "metadata": {
        "id": "rvLtd6uhLlgh"
      },
      "outputs": [],
      "source": [
        "import face_recognition\n",
        "import cv2\n",
        "import numpy as np\n",
        "import matplotlib.pyplot as plt\n",
        "import os\n",
        "from tqdm import tqdm_notebook\n",
        "import time\n",
        "import pandas as pd"
      ]
    },
    {
      "cell_type": "code",
      "source": [
        "# MODEL TRAINING\n",
        "\n",
        "val = \"/content/drive/MyDrive/ID_DATA/test/\"\n",
        "train = \"/content/drive/MyDrive/ID_DATA/train/\"\n",
        "\n",
        "#dicts containing images that weren't and were detected\n",
        "not_detected = {}\n",
        "detected = {}\n",
        "\n",
        "#Lists containing encodings and names of faces\n",
        "face_encode = []\n",
        "face_name = []\n",
        "\n",
        "#Updating above lists\n",
        "#Also training the model\n",
        "for folder in tqdm_notebook(os.listdir(train)):\n",
        "  temp_path = train+folder+'/'\n",
        "  name = folder\n",
        "  #face_name.append(folder)\n",
        "  for file in os.listdir(temp_path):\n",
        "    try:\n",
        "      alu_image = face_recognition.load_image_file(temp_path+file)\n",
        "      alu_face_encoding = face_recognition.face_encodings(alu_image)[0]\n",
        "    except:\n",
        "      if name not in not_detected.keys():\n",
        "          not_detected[name]=[]\n",
        "      not_detected[name].append(file)\n",
        "      continue\n",
        "    if name not in detected.keys():\n",
        "      detected[name]=[]\n",
        "    detected[name].append(file)\n",
        "    face_encode.append(alu_face_encoding)\n",
        "    face_name.append(folder)\n",
        "        \n",
        "        \n",
        "        "
      ],
      "metadata": {
        "colab": {
          "base_uri": "https://localhost:8080/",
          "height": 121,
          "referenced_widgets": [
            "7c08b5378e834a9f85433d3d9088dbd1",
            "539872b8a2bc4f78a052d7e580f1885f",
            "dc0deb3bae2c4b03b7d44b9317ed3fea",
            "4767f25718a74e98b338a6b0bd55b1d0",
            "1604000645fe471994967db2cd73de18",
            "d1ea57d3e7da45eebefc43d587510d5a",
            "fa7ba89e73664e2f9c90ea591b44c3f2",
            "0b0ece57e4eb4f4794a397778f354041",
            "669f63f2b586400383a0212a1729d1a0",
            "79f75340c7bd4b1dbbe616408b09ce14",
            "7def94efcf9a4021b4f4bbe517b32fe7"
          ]
        },
        "id": "wJoFjBYdMXSe",
        "outputId": "1d15afd5-0ec5-42c4-faf7-620eaafe0ce7"
      },
      "execution_count": null,
      "outputs": [
        {
          "output_type": "stream",
          "name": "stderr",
          "text": [
            "/usr/local/lib/python3.7/dist-packages/ipykernel_launcher.py:14: TqdmDeprecationWarning: This function will be removed in tqdm==5.0.0\n",
            "Please use `tqdm.notebook.tqdm` instead of `tqdm.tqdm_notebook`\n",
            "  \n"
          ]
        },
        {
          "output_type": "display_data",
          "data": {
            "text/plain": [
              "  0%|          | 0/33 [00:00<?, ?it/s]"
            ],
            "application/vnd.jupyter.widget-view+json": {
              "version_major": 2,
              "version_minor": 0,
              "model_id": "7c08b5378e834a9f85433d3d9088dbd1"
            }
          },
          "metadata": {}
        }
      ]
    },
    {
      "cell_type": "code",
      "source": [
        "print('Detected for {} members out of 33'.format(len(face_name)))\n",
        "print('')"
      ],
      "metadata": {
        "colab": {
          "base_uri": "https://localhost:8080/"
        },
        "id": "sRgBE8RINFT9",
        "outputId": "00615c15-78f4-472a-d7eb-b544325ed46a"
      },
      "execution_count": null,
      "outputs": [
        {
          "output_type": "stream",
          "name": "stdout",
          "text": [
            "Detected for 65 members out of 33\n",
            "\n"
          ]
        }
      ]
    },
    {
      "cell_type": "code",
      "source": [
        "def predict(frame,face_encode,face_name):\n",
        "    known_face_encodings = face_encode\n",
        "    known_face_names = face_name\n",
        "    \n",
        "    img = frame\n",
        "    \n",
        "    face_locations = face_recognition.face_locations(img)\n",
        "    face_encodings = face_recognition.face_encodings(img, face_locations)\n",
        "\n",
        "    face_names = []\n",
        "    for face_encoding in face_encodings:\n",
        "        # See if the face is a match for the known face(s)\n",
        "        matches = face_recognition.compare_faces(known_face_encodings, face_encoding)\n",
        "        name = \"Unknown\"\n",
        "\n",
        "        # # If a match was found in known_face_encodings, just use the first one.\n",
        "        # if True in matches:\n",
        "        #     first_match_index = matches.index(True)\n",
        "        #     name = known_face_names[first_match_index]\n",
        "\n",
        "        # Or instead, use the known face with the smallest distance to the new face\n",
        "        face_distances = face_recognition.face_distance(known_face_encodings, face_encoding)\n",
        "        best_match_index = np.argmin(face_distances)\n",
        "        if matches[best_match_index]:\n",
        "            name = known_face_names[best_match_index]\n",
        "\n",
        "        face_names.append(name)\n",
        "\n",
        "    return face_names"
      ],
      "metadata": {
        "id": "edKUtGu5jQdF"
      },
      "execution_count": null,
      "outputs": []
    },
    {
      "cell_type": "code",
      "source": [
        "path = \"/content/drive/MyDrive/ID_DATA/test/Dnyaneshwari Laxman Patil/Dnyana.jpg\"\n",
        "img = cv2.imread(path)\n",
        "img = cv2.cvtColor(img, cv2.COLOR_BGR2RGB)\n",
        "\n",
        "plt.imshow(img)\n",
        "plt.show()\n",
        "\n",
        "predict(img,face_encode,face_name)"
      ],
      "metadata": {
        "colab": {
          "base_uri": "https://localhost:8080/",
          "height": 494
        },
        "id": "DtjVNk4TjQMo",
        "outputId": "00fef52b-05ea-4ceb-ed4b-f8aae4e0bd95"
      },
      "execution_count": null,
      "outputs": [
        {
          "output_type": "display_data",
          "data": {
            "text/plain": [
              "<Figure size 432x288 with 1 Axes>"
            ],
            "image/png": "[encoded data removed]"
          },
          "metadata": {
            "needs_background": "light"
          }
        },
        {
          "output_type": "stream",
          "name": "stdout",
          "text": [
            "[0.76477385 0.82000779 0.81440174 0.70582981 0.64854048 0.92691838\n",
            " 0.92469054 0.64706809 0.64299013 0.91450828 0.9030872  1.00985014\n",
            " 0.99773474 0.92509761 0.89856934 0.92138857 0.93331273 0.76572236\n",
            " 0.75173826 0.50406218 0.62682451 0.58776596 0.85815347 0.72796427\n",
            " 0.65014091 0.66119139 0.70216969 0.69974843 0.5540234  0.57261718\n",
            " 0.5575819  0.56930842 0.79724805 0.80678615 0.8345214  0.62941098\n",
            " 0.60697851 0.65912418 0.63414198 0.89670153 0.86152178 0.85689121\n",
            " 0.90197267 0.73523914 0.70848662 0.67490512 0.67878202 0.95587104\n",
            " 0.92886404 0.8979785  0.88755562 0.90275835 0.7171927  0.71020571\n",
            " 0.36619222 0.40951501 0.33346191 0.36462857 0.94344091 0.96143864\n",
            " 0.74200643 0.72238622 0.8745506  0.85661876 0.85604362] \n",
            " 56\n"
          ]
        },
        {
          "output_type": "execute_result",
          "data": {
            "text/plain": [
              "['Dnyaneshwari Laxman Patil']"
            ]
          },
          "metadata": {},
          "execution_count": 33
        }
      ]
    },
    {
      "cell_type": "code",
      "source": [
        "# CHECKING ACCURACY\n",
        "\n",
        "correct_count = 0\n",
        "incorrect_count = 0\n",
        "actual = len(face_name)\n",
        "for folder in tqdm_notebook(os.listdir(val)):\n",
        "    temp_path = val+folder+'/'\n",
        "    name = folder\n",
        "    for file in os.listdir(temp_path):\n",
        "        \n",
        "        img = cv2.imread(temp_path+file)\n",
        "        img = cv2.cvtColor(img, cv2.COLOR_BGR2RGB)\n",
        "        \n",
        "        try:\n",
        "            name = predict(img,face_encode,face_name)\n",
        "        except Exception as e:\n",
        "            print(e)\n",
        "            continue\n",
        "        if len(name)!=0 and name[0] == folder:\n",
        "            correct_count+=1\n",
        "        else:\n",
        "            incorrect_count+=1\n",
        "            \n",
        "        print('Actual is:',folder,'\\n Name is:',name,'\\n***+***')\n",
        "            \n",
        "        \n",
        "            \n",
        "print('Accuracy is:', correct_count/actual *100)\n",
        "print('Loss is:', incorrect_count/actual *100)"
      ],
      "metadata": {
        "colab": {
          "base_uri": "https://localhost:8080/",
          "height": 1000,
          "referenced_widgets": [
            "1695f4fafd264d518dd7cf31c29ee097",
            "a0ec1de4b1464324918ba633c78eb819",
            "4881ce1cabc547beb0aa5827f59f9775",
            "394c511eab7d43659e98366ea156647c",
            "769b3ea05a2543bc98a460f9956e2dda",
            "5a990967b8fc4885951d6a90ad1b8993",
            "1071f1a22b864006bf6557782a14e4a5",
            "26e5d194331d4c17a9730d33ea849d68",
            "20fa70d8fe4c454db80128b0287f9458",
            "8a1668e60b214166a95b30a20d71f113",
            "99c723d6524c4df5b9345b208b77939d"
          ]
        },
        "id": "m8-6H4s_jPU4",
        "outputId": "8cb91838-e49c-46a3-8097-fb101ac44e9f"
      },
      "execution_count": null,
      "outputs": [
        {
          "output_type": "stream",
          "name": "stderr",
          "text": [
            "/usr/local/lib/python3.7/dist-packages/ipykernel_launcher.py:6: TqdmDeprecationWarning: This function will be removed in tqdm==5.0.0\n",
            "Please use `tqdm.notebook.tqdm` instead of `tqdm.tqdm_notebook`\n",
            "  \n"
          ]
        },
        {
          "output_type": "display_data",
          "data": {
            "text/plain": [
              "  0%|          | 0/33 [00:00<?, ?it/s]"
            ],
            "application/vnd.jupyter.widget-view+json": {
              "version_major": 2,
              "version_minor": 0,
              "model_id": "1695f4fafd264d518dd7cf31c29ee097"
            }
          },
          "metadata": {}
        },
        {
          "output_type": "stream",
          "name": "stdout",
          "text": [
            "Actual is: Ughade Shital Sanjay \n",
            " Name is: ['Ughade Shital Sanjay'] \n",
            "***+***\n",
            "Actual is: Venu Gopal .P \n",
            " Name is: ['Venu Gopal .P'] \n",
            "***+***\n",
            "Actual is: V Ashok \n",
            " Name is: ['V Ashok'] \n",
            "***+***\n",
            "Actual is: zareena \n",
            " Name is: ['zareena'] \n",
            "***+***\n",
            "Actual is: Uday Gurav \n",
            " Name is: ['Uday Gurav'] \n",
            "***+***\n",
            "Actual is: Vijay Arun Mane \n",
            " Name is: ['Vijay Arun Mane'] \n",
            "***+***\n",
            "Actual is: Supriya Kanchan Topno \n",
            " Name is: ['Supriya Kanchan Topno'] \n",
            "***+***\n",
            "Actual is: Sarika Babaji Kadam \n",
            " Name is: ['Sarika Babaji Kadam'] \n",
            "***+***\n",
            "Actual is: Somesh \n",
            " Name is: ['Somesh'] \n",
            "***+***\n",
            "Actual is: Rajendra Beja \n",
            " Name is: ['Rajendra Beja'] \n",
            "***+***\n",
            "Actual is: Sivakumar C \n",
            " Name is: ['Sivakumar C'] \n",
            "***+***\n",
            "Actual is: S Ashwin Kumar \n",
            " Name is: ['S Ashwin Kumar'] \n",
            "***+***\n",
            "Actual is: Nitin salokhe \n",
            " Name is: [] \n",
            "***+***\n",
            "Actual is: Sasmita Kumari Guru \n",
            " Name is: ['Sasmita Kumari Guru'] \n",
            "***+***\n",
            "Actual is: Sai Deepika Pasamala \n",
            " Name is: ['Sai Deepika Pasamala'] \n",
            "***+***\n",
            "Actual is: Sunil Badaseth \n",
            " Name is: ['Sunil Badaseth'] \n",
            "***+***\n",
            "Actual is: Rohini Lindayat Rajendra \n",
            " Name is: ['Rohini Lindayat Rajendra', 'Unknown'] \n",
            "***+***\n",
            "Actual is: Moyna Das_ \n",
            " Name is: ['Moyna Das_'] \n",
            "***+***\n",
            "Actual is: Nilesh Harishchandra Patil \n",
            " Name is: ['Nilesh Harishchandra Patil'] \n",
            "***+***\n",
            "Actual is: Meghana .K \n",
            " Name is: ['Meghana .K'] \n",
            "***+***\n",
            "Actual is: Kandukuri K Basha \n",
            " Name is: ['Kandukuri K Basha'] \n",
            "***+***\n",
            "Actual is: erukali naveen \n",
            " Name is: ['erukali naveen'] \n",
            "***+***\n",
            "Actual is: Manisha Kiran Taral \n",
            " Name is: ['Manisha Kiran Taral'] \n",
            "***+***\n",
            "Actual is: Kale Abhijit Kishor \n",
            " Name is: ['Kale Abhijit Kishor'] \n",
            "***+***\n",
            "Actual is: Laxmibai Sharanappa Bijjargi \n",
            " Name is: ['Laxmibai Sharanappa Bijjargi'] \n",
            "***+***\n",
            "Actual is: Katkamwar Anand \n",
            " Name is: ['Katkamwar Anand'] \n",
            "***+***\n",
            "Actual is: Droupadi Maharana \n",
            " Name is: ['Droupadi Maharana'] \n",
            "***+***\n",
            "Actual is: Dnyaneshwari Laxman Patil \n",
            " Name is: ['Dnyaneshwari Laxman Patil'] \n",
            "***+***\n",
            "Actual is: Alugoju Sathish \n",
            " Name is: ['Alugoju Sathish'] \n",
            "***+***\n",
            "Actual is: Amol Dayanand Mane \n",
            " Name is: ['Amol Dayanand Mane'] \n",
            "***+***\n",
            "Actual is: Bhosale Atul Haridas \n",
            " Name is: ['Bhosale Atul Haridas'] \n",
            "***+***\n",
            "Actual is: Dipali Balkrishna Pawar \n",
            " Name is: ['Dipali Balkrishna Pawar'] \n",
            "***+***\n",
            "Actual is: Anchala sahu \n",
            " Name is: ['Anchala sahu'] \n",
            "***+***\n",
            "Accuracy is: 49.23076923076923\n",
            "Loss is: 1.5384615384615385\n"
          ]
        }
      ]
    },
    {
      "cell_type": "code",
      "source": [
        "# ACCURACY ON VAL DATA\n",
        "\n",
        "print('Accuracy is:', correct_count/33 *100)\n",
        "print('Loss is:', incorrect_count/33 *100)"
      ],
      "metadata": {
        "colab": {
          "base_uri": "https://localhost:8080/"
        },
        "id": "7pKBRs-MuAn7",
        "outputId": "1a7b02a6-3a13-4d51-fd4d-1c44cfbfee96"
      },
      "execution_count": null,
      "outputs": [
        {
          "output_type": "stream",
          "name": "stdout",
          "text": [
            "Accuracy is: 96.96969696969697\n",
            "Loss is: 3.0303030303030303\n"
          ]
        }
      ]
    },
    {
      "cell_type": "code",
      "source": [
        "# ACCURACY ON TRAIN DATA\n",
        "\n",
        "print('Accuracy is:', correct_count/actual *100)\n",
        "print('Loss is:', incorrect_count/actual *100)"
      ],
      "metadata": {
        "colab": {
          "base_uri": "https://localhost:8080/"
        },
        "id": "KHVBeE-sjPLM",
        "outputId": "ccad55ed-c3df-41ff-b2d3-d9b52ebce7bf"
      },
      "execution_count": null,
      "outputs": [
        {
          "output_type": "stream",
          "name": "stdout",
          "text": [
            "Accuracy is: 101.53846153846153\n",
            "Loss is: 1.5384615384615385\n"
          ]
        }
      ]
    },
    {
      "cell_type": "code",
      "source": [
        ""
      ],
      "metadata": {
        "id": "CC6wxlfMjOOT"
      },
      "execution_count": null,
      "outputs": []
    }
  ]
}